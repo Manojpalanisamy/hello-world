{
 "cells": [
  {
   "cell_type": "code",
   "execution_count": 4,
   "metadata": {
    "collapsed": false
   },
   "outputs": [
    {
     "name": "stdout",
     "output_type": "stream",
     "text": [
      "\u001b[1;46m\n",
      "Test Results :\u001b[0m\n",
      "[['Critical' '574']\n",
      " ['Non-Critical' '25']]\n",
      "population: 599\n",
      "P: 27\n",
      "N: 572\n",
      "PositiveTest: 25\n",
      "NegativeTest: 574\n",
      "TP: 19\n",
      "TN: 566\n",
      "FP: 6\n",
      "FN: 8\n",
      "TPR: 0.703703703704\n",
      "TNR: 0.98951048951\n",
      "PPV: 0.76\n",
      "NPV: 0.98606271777\n",
      "FPR: 0.0104895104895\n",
      "FDR: 0.24\n",
      "FNR: 0.296296296296\n",
      "ACC: 0.976627712855\n",
      "F1_score: 0.730769230769\n",
      "MCC: 0.719153158226\n",
      "informedness: 0.693214193214\n",
      "markedness: 0.74606271777\n",
      "prevalence: 0.0450751252087\n",
      "LRP: 67.0864197531\n",
      "LRN: 0.299437246434\n",
      "DOR: 224.041666667\n",
      "FOR: 0.01393728223\n"
     ]
    }
   ],
   "source": [
    "import numpy as np\n",
    "import pandas as pd\n",
    "from scipy.stats import itemfreq\n",
    "from sklearn.neural_network import MLPClassifier\n",
    "from pandas_ml import ConfusionMatrix\n",
    "\n",
    "# Read the Training and Test dataset\n",
    "\n",
    "train = pd.read_csv(\"C:/Users/User/Downloads/Machine Learning/Crime_Data_Cleaned56_70.csv\")\n",
    "test = pd.read_csv(\"C:/Users/User/Downloads/Machine Learning/Crime_Data_Cleaned56_30.csv\")\n",
    "\n",
    "# Format the data and expected values for SKLearn\n",
    "\n",
    "trainData = pd.DataFrame.as_matrix(train[['pop','perHoush','pctBlack','pctWhite','pctHisp','persUrban','medIncome','pctWwage','pctWdiv','pctPubAsst','medFamIncome','persPoverty','pctPoverty','pctLowEdu','pctNotHSgrad','pctUnemploy','pctOccupMgmt','pctAllDivorc','pct2Par','pctKids2Par','pctKids4w2Par','pct1217w2Par','kidsBornNevrMarr','pctKidsBornNevrMarr','numForeignBorn','pctFgnImmig10','pctImmig5','pctImmig8','pctImmig10','pctSpeakOnlyEng','pctNotSpeakEng','pctLargHousFam','persPerOccupHous','persPerOwnOccup','pctPersOwnOccup','pctPopDenseHous','pctSmallHousUnits','medNumBedrm','houseVacant','pctHousOccup','pctHousOwnerOccup','pctHousWOphone','medRentpctHousInc','persEmergShelt','persHomeless','popDensity','murdPerPop','rapesPerPop','robbbPerPop','assaultPerPop','burglPerPop','larcPerPop','autoTheftPerPop','arsonsPerPop','violentPerPop']])\n",
    "trainTarget = pd.DataFrame.as_matrix(train[['crimeStatus']]).ravel()\n",
    "testData = pd.DataFrame.as_matrix(test[['pop','perHoush','pctBlack','pctWhite','pctHisp','persUrban','medIncome','pctWwage','pctWdiv','pctPubAsst','medFamIncome','persPoverty','pctPoverty','pctLowEdu','pctNotHSgrad','pctUnemploy','pctOccupMgmt','pctAllDivorc','pct2Par','pctKids2Par','pctKids4w2Par','pct1217w2Par','kidsBornNevrMarr','pctKidsBornNevrMarr','numForeignBorn','pctFgnImmig10','pctImmig5','pctImmig8','pctImmig10','pctSpeakOnlyEng','pctNotSpeakEng','pctLargHousFam','persPerOccupHous','persPerOwnOccup','pctPersOwnOccup','pctPopDenseHous','pctSmallHousUnits','medNumBedrm','houseVacant','pctHousOccup','pctHousOwnerOccup','pctHousWOphone','medRentpctHousInc','persEmergShelt','persHomeless','popDensity','murdPerPop','rapesPerPop','robbbPerPop','assaultPerPop','burglPerPop','larcPerPop','autoTheftPerPop','arsonsPerPop','violentPerPop']])\n",
    "testTarget = pd.DataFrame.as_matrix(test[['crimeStatus']]).ravel()\n",
    "\n",
    "#Apply Neural network Classification Algorithm\n",
    "\n",
    "classifier = MLPClassifier(solver='lbfgs', alpha=1.7,hidden_layer_sizes=(5, 2), random_state=1)\n",
    "classifier.fit(trainData, trainTarget)\n",
    "#predictedValues1 = classifier.predict(trainData)\n",
    "\n",
    "#classifier.fit(testData, testTarget)\n",
    "predictedValues2 = classifier.predict(testData)\n",
    "\n",
    "#cm1=ConfusionMatrix(trainTarget,predictedValues1)\n",
    "cm2=ConfusionMatrix(testTarget,predictedValues2)\n",
    "\n",
    "#print('\\x1b[1;46m'+'Training Results :'+'\\x1b[0m')\n",
    "#print(itemfreq(predictedValues1))\n",
    "#cm1.print_stats()\n",
    "\n",
    "#Print the final results\n",
    "print('\\x1b[1;46m'+'\\nTest Results :'+'\\x1b[0m')\n",
    "print(itemfreq(predictedValues2))\n",
    "cm2.print_stats()"
   ]
  },
  {
   "cell_type": "code",
   "execution_count": null,
   "metadata": {
    "collapsed": true
   },
   "outputs": [],
   "source": []
  }
 ],
 "metadata": {
  "kernelspec": {
   "display_name": "Python [default]",
   "language": "python",
   "name": "python3"
  },
  "language_info": {
   "codemirror_mode": {
    "name": "ipython",
    "version": 3
   },
   "file_extension": ".py",
   "mimetype": "text/x-python",
   "name": "python",
   "nbconvert_exporter": "python",
   "pygments_lexer": "ipython3",
   "version": "3.5.2"
  }
 },
 "nbformat": 4,
 "nbformat_minor": 1
}
