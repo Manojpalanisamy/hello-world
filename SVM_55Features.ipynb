{
 "cells": [
  {
   "cell_type": "code",
   "execution_count": 1,
   "metadata": {
    "collapsed": false
   },
   "outputs": [
    {
     "name": "stdout",
     "output_type": "stream",
     "text": [
      "\u001b[1;46m\n",
      "Test Results :\u001b[0m\n",
      "[['Critical' 578]\n",
      " ['Non-Critical' 21]]\n",
      "population: 599\n",
      "P: 27\n",
      "N: 572\n",
      "PositiveTest: 21\n",
      "NegativeTest: 578\n",
      "TP: 13\n",
      "TN: 564\n",
      "FP: 8\n",
      "FN: 14\n",
      "TPR: 0.481481481481\n",
      "TNR: 0.986013986014\n",
      "PPV: 0.619047619048\n",
      "NPV: 0.975778546713\n",
      "FPR: 0.013986013986\n",
      "FDR: 0.380952380952\n",
      "FNR: 0.518518518519\n",
      "ACC: 0.9632721202\n",
      "F1_score: 0.541666666667\n",
      "MCC: 0.527331524224\n",
      "informedness: 0.467495467495\n",
      "markedness: 0.59482616576\n",
      "prevalence: 0.0450751252087\n",
      "LRP: 34.4259259259\n",
      "LRN: 0.525873391122\n",
      "DOR: 65.4642857143\n",
      "FOR: 0.0242214532872\n"
     ]
    }
   ],
   "source": [
    "import numpy as np\n",
    "import pandas as pd\n",
    "from scipy.stats import itemfreq\n",
    "from sklearn import svm\n",
    "from pandas_ml import ConfusionMatrix\n",
    "\n",
    "# Read the Training and Test dataset\n",
    "\n",
    "train = pd.read_csv(\"C:/Users/User/Downloads/Machine Learning/Crime_Data_Cleaned56_70.csv\")\n",
    "test = pd.read_csv(\"C:/Users/User/Downloads/Machine Learning/Crime_Data_Cleaned56_30.csv\")\n",
    "\n",
    "# Format the data and expected values for SKLearn\n",
    "\n",
    "trainData = pd.DataFrame.as_matrix(train[['pop','perHoush','pctBlack','pctWhite','pctHisp','persUrban','medIncome','pctWwage','pctWdiv','pctPubAsst','medFamIncome','persPoverty','pctPoverty','pctLowEdu','pctNotHSgrad','pctUnemploy','pctOccupMgmt','pctAllDivorc','pct2Par','pctKids2Par','pctKids4w2Par','pct1217w2Par','kidsBornNevrMarr','pctKidsBornNevrMarr','numForeignBorn','pctFgnImmig10','pctImmig5','pctImmig8','pctImmig10','pctSpeakOnlyEng','pctNotSpeakEng','pctLargHousFam','persPerOccupHous','persPerOwnOccup','pctPersOwnOccup','pctPopDenseHous','pctSmallHousUnits','medNumBedrm','houseVacant','pctHousOccup','pctHousOwnerOccup','pctHousWOphone','medRentpctHousInc','persEmergShelt','persHomeless','popDensity','murdPerPop','rapesPerPop','robbbPerPop','assaultPerPop','burglPerPop','larcPerPop','autoTheftPerPop','arsonsPerPop','violentPerPop']])\n",
    "trainTarget = pd.DataFrame.as_matrix(train[['crimeStatus']]).ravel()\n",
    "testData = pd.DataFrame.as_matrix(test[['pop','perHoush','pctBlack','pctWhite','pctHisp','persUrban','medIncome','pctWwage','pctWdiv','pctPubAsst','medFamIncome','persPoverty','pctPoverty','pctLowEdu','pctNotHSgrad','pctUnemploy','pctOccupMgmt','pctAllDivorc','pct2Par','pctKids2Par','pctKids4w2Par','pct1217w2Par','kidsBornNevrMarr','pctKidsBornNevrMarr','numForeignBorn','pctFgnImmig10','pctImmig5','pctImmig8','pctImmig10','pctSpeakOnlyEng','pctNotSpeakEng','pctLargHousFam','persPerOccupHous','persPerOwnOccup','pctPersOwnOccup','pctPopDenseHous','pctSmallHousUnits','medNumBedrm','houseVacant','pctHousOccup','pctHousOwnerOccup','pctHousWOphone','medRentpctHousInc','persEmergShelt','persHomeless','popDensity','murdPerPop','rapesPerPop','robbbPerPop','assaultPerPop','burglPerPop','larcPerPop','autoTheftPerPop','arsonsPerPop','violentPerPop']])\n",
    "testTarget = pd.DataFrame.as_matrix(test[['crimeStatus']]).ravel()\n",
    "\n",
    "#Apply SVM Classification Algorithm\n",
    "\n",
    "classifier = svm.SVC(gamma=0.005, C=100)\n",
    "classifier.fit(trainData, trainTarget)\n",
    "#predictedValues1 = classifier.predict(trainData)\n",
    "\n",
    "#classifier.fit(testData, testTarget)\n",
    "predictedValues2 = classifier.predict(testData)\n",
    "\n",
    "#cm1=ConfusionMatrix(trainTarget,predictedValues1)\n",
    "cm2=ConfusionMatrix(testTarget,predictedValues2)\n",
    "\n",
    "#print('\\x1b[1;46m'+'Training Results :'+'\\x1b[0m')\n",
    "#print(itemfreq(predictedValues1))\n",
    "#cm1.print_stats()\n",
    "\n",
    "#Print the final results\n",
    "print('\\x1b[1;46m'+'\\nTest Results :'+'\\x1b[0m')\n",
    "print(itemfreq(predictedValues2))\n",
    "cm2.print_stats()"
   ]
  },
  {
   "cell_type": "code",
   "execution_count": null,
   "metadata": {
    "collapsed": true
   },
   "outputs": [],
   "source": []
  }
 ],
 "metadata": {
  "kernelspec": {
   "display_name": "Python [default]",
   "language": "python",
   "name": "python3"
  },
  "language_info": {
   "codemirror_mode": {
    "name": "ipython",
    "version": 3
   },
   "file_extension": ".py",
   "mimetype": "text/x-python",
   "name": "python",
   "nbconvert_exporter": "python",
   "pygments_lexer": "ipython3",
   "version": "3.5.2"
  }
 },
 "nbformat": 4,
 "nbformat_minor": 1
}
