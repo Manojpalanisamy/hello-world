{
 "cells": [
  {
   "cell_type": "code",
   "execution_count": 5,
   "metadata": {
    "collapsed": false
   },
   "outputs": [
    {
     "name": "stdout",
     "output_type": "stream",
     "text": [
      "\u001b[1;46m\n",
      "Test Results :\u001b[0m\n",
      "[['Critical' 594]\n",
      " ['Non-Critical' 5]]\n",
      "population: 599\n",
      "P: 27\n",
      "N: 572\n",
      "PositiveTest: 5\n",
      "NegativeTest: 594\n",
      "TP: 1\n",
      "TN: 568\n",
      "FP: 4\n",
      "FN: 26\n",
      "TPR: 0.037037037037\n",
      "TNR: 0.993006993007\n",
      "PPV: 0.2\n",
      "NPV: 0.956228956229\n",
      "FPR: 0.00699300699301\n",
      "FDR: 0.8\n",
      "FNR: 0.962962962963\n",
      "ACC: 0.949916527546\n",
      "F1_score: 0.0625\n",
      "MCC: 0.0685109294543\n",
      "informedness: 0.030044030044\n",
      "markedness: 0.156228956229\n",
      "prevalence: 0.0450751252087\n",
      "LRP: 5.2962962963\n",
      "LRN: 0.96974439228\n",
      "DOR: 5.46153846154\n",
      "FOR: 0.043771043771\n"
     ]
    }
   ],
   "source": [
    "import numpy as np\n",
    "import pandas as pd\n",
    "from scipy.stats import itemfreq\n",
    "from sklearn.neighbors import KNeighborsClassifier\n",
    "from pandas_ml import ConfusionMatrix\n",
    "\n",
    "# Read the Training and Test dataset\n",
    "train = pd.read_csv(\"C:/Users/User/Downloads/Machine Learning/Crime_Data_Cleaned_70.csv\")\n",
    "test = pd.read_csv(\"C:/Users/User/Downloads/Machine Learning/Crime_Data_Cleaned_30.csv\")\n",
    "\n",
    "# Format the data and expected values for SKLearn\n",
    "trainData = pd.DataFrame.as_matrix(train[['State','pop','perHoush','pctBlack','pctWhite','pctAsian','pctHisp','pct12to21','pct12to29','pct16to24','pct65up','persUrban','pctUrban','medIncome','pctWwage','pctWfarm','pctWdiv','pctWsocsec','pctPubAsst','pctRetire','medFamIncome','perCapInc','whitePerCap','blackPerCap','NAperCap','asianPerCap','otherPerCap','hispPerCap','persPoverty','pctPoverty','pctLowEdu','pctNotHSgrad','pctCollGrad','pctUnemploy','pctEmploy','pctEmployMfg','pctEmployProfServ','pctOccupManu','pctOccupMgmt','pctMaleNevMar','pctAllDivorc','persPerFam','pct2Par','pctKids2Par','pctKids4w2Par','pct1217w2Par','pctWorkMom6','pctWorkMom18','kidsBornNevrMarr','pctKidsBornNevrMarr','numForeignBorn','pctFgnImmig3','pctFgnImmig5','pctFgnImmig8','pctFgnImmig10','pctImmig3','pctImmig5','pctImmig8','pctImmig10','pctSpeakOnlyEng','pctNotSpeakEng','pctLargHousFam','pctLargHous','persPerOccupHous','persPerOwnOccup','persPerRenterOccup','pctPersOwnOccup','pctPopDenseHous','pctSmallHousUnits','medNumBedrm','houseVacant','pctHousOccup','pctHousOwnerOccup','pctVacantBoarded','pctVacant6up','medYrHousBuilt','pctHousWOphone','pctHousWOplumb','ownHousLowQ','ownHousMed','ownHousUperQ','ownHousQrange','rentLowQ','rentMed','rentUpperQ','rentQrange','medGrossRent','medRentpctHousInc','medOwnCostpct','medOwnCostPctWO','persEmergShelt','persHomeless','pctForeignBorn','pctBornStateResid','pctSameHouse5','pctSameCounty5','pctSameState5','landArea','popDensity','pctUsePubTrans','pctOfficDrugUnit','murdPerPop','rapesPerPop','robbbPerPop','assaultPerPop','burglPerPop','larcPerPop','autoTheftPerPop','arsonsPerPop','violentPerPop']])\n",
    "trainTarget = pd.DataFrame.as_matrix(train[['crimeStatus']]).ravel()\n",
    "\n",
    "testData = pd.DataFrame.as_matrix(test[['State','pop','perHoush','pctBlack','pctWhite','pctAsian','pctHisp','pct12to21','pct12to29','pct16to24','pct65up','persUrban','pctUrban','medIncome','pctWwage','pctWfarm','pctWdiv','pctWsocsec','pctPubAsst','pctRetire','medFamIncome','perCapInc','whitePerCap','blackPerCap','NAperCap','asianPerCap','otherPerCap','hispPerCap','persPoverty','pctPoverty','pctLowEdu','pctNotHSgrad','pctCollGrad','pctUnemploy','pctEmploy','pctEmployMfg','pctEmployProfServ','pctOccupManu','pctOccupMgmt','pctMaleNevMar','pctAllDivorc','persPerFam','pct2Par','pctKids2Par','pctKids4w2Par','pct1217w2Par','pctWorkMom6','pctWorkMom18','kidsBornNevrMarr','pctKidsBornNevrMarr','numForeignBorn','pctFgnImmig3','pctFgnImmig5','pctFgnImmig8','pctFgnImmig10','pctImmig3','pctImmig5','pctImmig8','pctImmig10','pctSpeakOnlyEng','pctNotSpeakEng','pctLargHousFam','pctLargHous','persPerOccupHous','persPerOwnOccup','persPerRenterOccup','pctPersOwnOccup','pctPopDenseHous','pctSmallHousUnits','medNumBedrm','houseVacant','pctHousOccup','pctHousOwnerOccup','pctVacantBoarded','pctVacant6up','medYrHousBuilt','pctHousWOphone','pctHousWOplumb','ownHousLowQ','ownHousMed','ownHousUperQ','ownHousQrange','rentLowQ','rentMed','rentUpperQ','rentQrange','medGrossRent','medRentpctHousInc','medOwnCostpct','medOwnCostPctWO','persEmergShelt','persHomeless','pctForeignBorn','pctBornStateResid','pctSameHouse5','pctSameCounty5','pctSameState5','landArea','popDensity','pctUsePubTrans','pctOfficDrugUnit','murdPerPop','rapesPerPop','robbbPerPop','assaultPerPop','burglPerPop','larcPerPop','autoTheftPerPop','arsonsPerPop','violentPerPop']])\n",
    "testTarget = pd.DataFrame.as_matrix(test[['crimeStatus']]).ravel()\n",
    "\n",
    "#Apply KNN Classification Algorithm\n",
    "\n",
    "classifier = KNeighborsClassifier(3,weights='distance')\n",
    "classifier.fit(trainData, trainTarget)\n",
    "#predictedValues1 = classifier.predict(trainData)\n",
    "\n",
    "#classifier.fit(testData, testTarget)\n",
    "predictedValues2 = classifier.predict(testData)\n",
    "\n",
    "#cm1=ConfusionMatrix(trainTarget,predictedValues1)\n",
    "cm2=ConfusionMatrix(testTarget,predictedValues2)\n",
    "\n",
    "#print('\\x1b[1;46m'+'Training Results :'+'\\x1b[0m')\n",
    "#print(itemfreq(predictedValues1))\n",
    "#cm1.print_stats()\n",
    "\n",
    "#Print the final results\n",
    "print('\\x1b[1;46m'+'\\nTest Results :'+'\\x1b[0m')\n",
    "print(itemfreq(predictedValues2))\n",
    "cm2.print_stats()\n"
   ]
  },
  {
   "cell_type": "code",
   "execution_count": null,
   "metadata": {
    "collapsed": true
   },
   "outputs": [],
   "source": []
  }
 ],
 "metadata": {
  "kernelspec": {
   "display_name": "Python [default]",
   "language": "python",
   "name": "python3"
  },
  "language_info": {
   "codemirror_mode": {
    "name": "ipython",
    "version": 3
   },
   "file_extension": ".py",
   "mimetype": "text/x-python",
   "name": "python",
   "nbconvert_exporter": "python",
   "pygments_lexer": "ipython3",
   "version": "3.5.2"
  }
 },
 "nbformat": 4,
 "nbformat_minor": 1
}
