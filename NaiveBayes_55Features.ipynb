{
 "cells": [
  {
   "cell_type": "code",
   "execution_count": 2,
   "metadata": {
    "collapsed": false
   },
   "outputs": [
    {
     "name": "stdout",
     "output_type": "stream",
     "text": [
      "\u001b[1;46m\n",
      "Test Results :\u001b[0m\n",
      "[['Critical' '508']\n",
      " ['Non-Critical' '91']]\n",
      "population: 599\n",
      "P: 27\n",
      "N: 572\n",
      "PositiveTest: 91\n",
      "NegativeTest: 508\n",
      "TP: 24\n",
      "TN: 505\n",
      "FP: 67\n",
      "FN: 3\n",
      "TPR: 0.888888888889\n",
      "TNR: 0.882867132867\n",
      "PPV: 0.263736263736\n",
      "NPV: 0.994094488189\n",
      "FPR: 0.117132867133\n",
      "FDR: 0.736263736264\n",
      "FNR: 0.111111111111\n",
      "ACC: 0.883138564274\n",
      "F1_score: 0.406779661017\n",
      "MCC: 0.446074472921\n",
      "informedness: 0.771756021756\n",
      "markedness: 0.257830751925\n",
      "prevalence: 0.0450751252087\n",
      "LRP: 7.58872305141\n",
      "LRN: 0.125852585259\n",
      "DOR: 60.2985074627\n",
      "FOR: 0.00590551181102\n"
     ]
    }
   ],
   "source": [
    "import numpy as np\n",
    "import pandas as pd\n",
    "from scipy.stats import itemfreq\n",
    "from sklearn.naive_bayes import GaussianNB\n",
    "from pandas_ml import ConfusionMatrix\n",
    "\n",
    "# Read the Training and Test dataset\n",
    "\n",
    "train = pd.read_csv(\"C:/Users/User/Downloads/Machine Learning/Crime_Data_Cleaned56_70.csv\")\n",
    "test = pd.read_csv(\"C:/Users/User/Downloads/Machine Learning/Crime_Data_Cleaned56_30.csv\")\n",
    "\n",
    "# Format the data and expected values for SKLearn\n",
    "\n",
    "trainData = pd.DataFrame.as_matrix(train[['pop','perHoush','pctBlack','pctWhite','pctHisp','persUrban','medIncome','pctWwage','pctWdiv','pctPubAsst','medFamIncome','persPoverty','pctPoverty','pctLowEdu','pctNotHSgrad','pctUnemploy','pctOccupMgmt','pctAllDivorc','pct2Par','pctKids2Par','pctKids4w2Par','pct1217w2Par','kidsBornNevrMarr','pctKidsBornNevrMarr','numForeignBorn','pctFgnImmig10','pctImmig5','pctImmig8','pctImmig10','pctSpeakOnlyEng','pctNotSpeakEng','pctLargHousFam','persPerOccupHous','persPerOwnOccup','pctPersOwnOccup','pctPopDenseHous','pctSmallHousUnits','medNumBedrm','houseVacant','pctHousOccup','pctHousOwnerOccup','pctHousWOphone','medRentpctHousInc','persEmergShelt','persHomeless','popDensity','murdPerPop','rapesPerPop','robbbPerPop','assaultPerPop','burglPerPop','larcPerPop','autoTheftPerPop','arsonsPerPop','violentPerPop']])\n",
    "trainTarget = pd.DataFrame.as_matrix(train[['crimeStatus']]).ravel()\n",
    "testData = pd.DataFrame.as_matrix(test[['pop','perHoush','pctBlack','pctWhite','pctHisp','persUrban','medIncome','pctWwage','pctWdiv','pctPubAsst','medFamIncome','persPoverty','pctPoverty','pctLowEdu','pctNotHSgrad','pctUnemploy','pctOccupMgmt','pctAllDivorc','pct2Par','pctKids2Par','pctKids4w2Par','pct1217w2Par','kidsBornNevrMarr','pctKidsBornNevrMarr','numForeignBorn','pctFgnImmig10','pctImmig5','pctImmig8','pctImmig10','pctSpeakOnlyEng','pctNotSpeakEng','pctLargHousFam','persPerOccupHous','persPerOwnOccup','pctPersOwnOccup','pctPopDenseHous','pctSmallHousUnits','medNumBedrm','houseVacant','pctHousOccup','pctHousOwnerOccup','pctHousWOphone','medRentpctHousInc','persEmergShelt','persHomeless','popDensity','murdPerPop','rapesPerPop','robbbPerPop','assaultPerPop','burglPerPop','larcPerPop','autoTheftPerPop','arsonsPerPop','violentPerPop']])\n",
    "testTarget = pd.DataFrame.as_matrix(test[['crimeStatus']]).ravel()\n",
    "\n",
    "#Apply Naive Bayes Classification Algorithm\n",
    "\n",
    "classifier = GaussianNB()\n",
    "classifier.fit(trainData, trainTarget)\n",
    "#predictedValues1 = classifier.predict(trainData)\n",
    "\n",
    "#classifier.fit(testData, testTarget)\n",
    "predictedValues2 = classifier.predict(testData)\n",
    "\n",
    "#cm1=ConfusionMatrix(trainTarget,predictedValues1)\n",
    "cm2=ConfusionMatrix(testTarget,predictedValues2)\n",
    "\n",
    "#print('\\x1b[1;46m'+'Training Results :'+'\\x1b[0m')\n",
    "#print(itemfreq(predictedValues1))\n",
    "#cm1.print_stats()\n",
    "\n",
    "#Print the final results\n",
    "print('\\x1b[1;46m'+'\\nTest Results :'+'\\x1b[0m')\n",
    "print(itemfreq(predictedValues2))\n",
    "cm2.print_stats()"
   ]
  },
  {
   "cell_type": "code",
   "execution_count": null,
   "metadata": {
    "collapsed": true
   },
   "outputs": [],
   "source": []
  }
 ],
 "metadata": {
  "kernelspec": {
   "display_name": "Python [default]",
   "language": "python",
   "name": "python3"
  },
  "language_info": {
   "codemirror_mode": {
    "name": "ipython",
    "version": 3
   },
   "file_extension": ".py",
   "mimetype": "text/x-python",
   "name": "python",
   "nbconvert_exporter": "python",
   "pygments_lexer": "ipython3",
   "version": "3.5.2"
  }
 },
 "nbformat": 4,
 "nbformat_minor": 1
}
