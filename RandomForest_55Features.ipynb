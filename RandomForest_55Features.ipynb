{
 "cells": [
  {
   "cell_type": "code",
   "execution_count": 6,
   "metadata": {
    "collapsed": false
   },
   "outputs": [
    {
     "name": "stdout",
     "output_type": "stream",
     "text": [
      "\u001b[1;46m\n",
      "Test Results :\u001b[0m\n",
      "[['Critical' 579]\n",
      " ['Non-Critical' 20]]\n",
      "population: 599\n",
      "P: 27\n",
      "N: 572\n",
      "PositiveTest: 20\n",
      "NegativeTest: 579\n",
      "TP: 20\n",
      "TN: 572\n",
      "FP: 0\n",
      "FN: 7\n",
      "TPR: 0.740740740741\n",
      "TNR: 1.0\n",
      "PPV: 1.0\n",
      "NPV: 0.987910189983\n",
      "FPR: 0.0\n",
      "FDR: 0.0\n",
      "FNR: 0.259259259259\n",
      "ACC: 0.988313856427\n",
      "F1_score: 0.851063829787\n",
      "MCC: 0.855444519483\n",
      "informedness: 0.740740740741\n",
      "markedness: 0.987910189983\n",
      "prevalence: 0.0450751252087\n",
      "LRP: inf\n",
      "LRN: 0.259259259259\n",
      "DOR: inf\n",
      "FOR: 0.0120898100173\n"
     ]
    }
   ],
   "source": [
    "import numpy as np\n",
    "import pandas as pd\n",
    "from scipy.stats import itemfreq\n",
    "from sklearn.ensemble import RandomForestClassifier\n",
    "from pandas_ml import ConfusionMatrix\n",
    "\n",
    "# Read the Training and Test dataset\n",
    "\n",
    "train = pd.read_csv(\"C:/Users/User/Downloads/Machine Learning/Crime_Data_Cleaned56_70.csv\")\n",
    "test = pd.read_csv(\"C:/Users/User/Downloads/Machine Learning/Crime_Data_Cleaned56_30.csv\")\n",
    "\n",
    "# Format the data and expected values for SKLearn\n",
    "\n",
    "trainData = pd.DataFrame.as_matrix(train[['pop','perHoush','pctBlack','pctWhite','pctHisp','persUrban','medIncome','pctWwage','pctWdiv','pctPubAsst','medFamIncome','persPoverty','pctPoverty','pctLowEdu','pctNotHSgrad','pctUnemploy','pctOccupMgmt','pctAllDivorc','pct2Par','pctKids2Par','pctKids4w2Par','pct1217w2Par','kidsBornNevrMarr','pctKidsBornNevrMarr','numForeignBorn','pctFgnImmig10','pctImmig5','pctImmig8','pctImmig10','pctSpeakOnlyEng','pctNotSpeakEng','pctLargHousFam','persPerOccupHous','persPerOwnOccup','pctPersOwnOccup','pctPopDenseHous','pctSmallHousUnits','medNumBedrm','houseVacant','pctHousOccup','pctHousOwnerOccup','pctHousWOphone','medRentpctHousInc','persEmergShelt','persHomeless','popDensity','murdPerPop','rapesPerPop','robbbPerPop','assaultPerPop','burglPerPop','larcPerPop','autoTheftPerPop','arsonsPerPop','violentPerPop']])\n",
    "trainTarget = pd.DataFrame.as_matrix(train[['crimeStatus']]).ravel()\n",
    "testData = pd.DataFrame.as_matrix(test[['pop','perHoush','pctBlack','pctWhite','pctHisp','persUrban','medIncome','pctWwage','pctWdiv','pctPubAsst','medFamIncome','persPoverty','pctPoverty','pctLowEdu','pctNotHSgrad','pctUnemploy','pctOccupMgmt','pctAllDivorc','pct2Par','pctKids2Par','pctKids4w2Par','pct1217w2Par','kidsBornNevrMarr','pctKidsBornNevrMarr','numForeignBorn','pctFgnImmig10','pctImmig5','pctImmig8','pctImmig10','pctSpeakOnlyEng','pctNotSpeakEng','pctLargHousFam','persPerOccupHous','persPerOwnOccup','pctPersOwnOccup','pctPopDenseHous','pctSmallHousUnits','medNumBedrm','houseVacant','pctHousOccup','pctHousOwnerOccup','pctHousWOphone','medRentpctHousInc','persEmergShelt','persHomeless','popDensity','murdPerPop','rapesPerPop','robbbPerPop','assaultPerPop','burglPerPop','larcPerPop','autoTheftPerPop','arsonsPerPop','violentPerPop']])\n",
    "testTarget = pd.DataFrame.as_matrix(test[['crimeStatus']]).ravel()\n",
    "\n",
    "#Apply Random Forest Classifier Algorithm\n",
    "\n",
    "classifier = RandomForestClassifier()\n",
    "classifier.fit(trainData, trainTarget)\n",
    "#predictedValues1 = classifier.predict(trainData)\n",
    "\n",
    "#classifier.fit(testData, testTarget)\n",
    "predictedValues2 = classifier.predict(testData)\n",
    "\n",
    "#cm1=ConfusionMatrix(trainTarget,predictedValues1)\n",
    "cm2=ConfusionMatrix(testTarget,predictedValues2)\n",
    "\n",
    "#print('\\x1b[1;46m'+'Training Results :'+'\\x1b[0m')\n",
    "#print(itemfreq(predictedValues1))\n",
    "#cm1.print_stats()\n",
    "\n",
    "#Print the final results\n",
    "print('\\x1b[1;46m'+'\\nTest Results :'+'\\x1b[0m')\n",
    "print(itemfreq(predictedValues2))\n",
    "cm2.print_stats()"
   ]
  },
  {
   "cell_type": "code",
   "execution_count": null,
   "metadata": {
    "collapsed": true
   },
   "outputs": [],
   "source": []
  }
 ],
 "metadata": {
  "kernelspec": {
   "display_name": "Python [default]",
   "language": "python",
   "name": "python3"
  },
  "language_info": {
   "codemirror_mode": {
    "name": "ipython",
    "version": 3
   },
   "file_extension": ".py",
   "mimetype": "text/x-python",
   "name": "python",
   "nbconvert_exporter": "python",
   "pygments_lexer": "ipython3",
   "version": "3.5.2"
  }
 },
 "nbformat": 4,
 "nbformat_minor": 1
}
